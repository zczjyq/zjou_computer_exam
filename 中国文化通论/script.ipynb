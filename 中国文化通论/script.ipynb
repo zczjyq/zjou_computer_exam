{
 "cells": [
  {
   "cell_type": "code",
   "execution_count": 2,
   "metadata": {},
   "outputs": [],
   "source": [
    "from bs4 import BeautifulSoup\n",
    "import pandas as pd"
   ]
  },
  {
   "cell_type": "code",
   "execution_count": 4,
   "metadata": {},
   "outputs": [
    {
     "name": "stdout",
     "output_type": "stream",
     "text": [
      "Markdown file 'questions.md' created successfully.\n",
      "Markdown file 'questions.md' created successfully.\n",
      "Markdown file 'questions.md' created successfully.\n",
      "Markdown file 'questions.md' created successfully.\n",
      "Markdown file 'questions.md' created successfully.\n",
      "Markdown file 'questions.md' created successfully.\n",
      "Markdown file 'questions.md' created successfully.\n"
     ]
    }
   ],
   "source": [
    "gj_ABCD = [\"A. \", \"B. \", \"C. \", \"D. \"]\n",
    "for unit in range(1, 8):\n",
    "    markdown_content = \"\"\n",
    "    title = f\"Unit{unit}\"\n",
    "    soup = BeautifulSoup(open(f'./recourse/{title}.html'))\n",
    "    all_question = soup.select(\"div.common-question\")\n",
    "\n",
    "    # 加标题\n",
    "    markdown_content += f\"# {title}\\n\"\n",
    "    markdown_content += \"## 选择题\\n\"\n",
    "    all_xuanze = all_question[0]\n",
    "    index = 1\n",
    "    for xuanze in all_xuanze:\n",
    "        markdown_content += f\"### {index}. {xuanze.p.text}\\n\"\n",
    "        xxs = xuanze.select(\"div.common_test_option\")\n",
    "        gj_ABCD_index = 0\n",
    "        for xx in xxs:\n",
    "            markdown_content += f\"- {gj_ABCD[gj_ABCD_index]}{xx.label.p.text}\\n\"\n",
    "            gj_ABCD_index += 1\n",
    "        index += 1\n",
    "\n",
    "    # 判断\n",
    "    markdown_content += \"## 判断题\\n\"\n",
    "    all_pd = all_question[1]\n",
    "    index = 1\n",
    "    for pd in all_pd:\n",
    "        markdown_content += f\"#### {index}. \" + pd.p.text + \" ()\\n\"\n",
    "        index += 1\n",
    "\n",
    "    markdown_content += \"## 填空题\\n\"\n",
    "    index = 1\n",
    "    all_tiankongs = all_question[2]\n",
    "    for tiankong in all_tiankongs:\n",
    "        markdown_content += f\"#### {index}. \" + tiankong.p.text + \" \\n\"\n",
    "        index += 1\n",
    "\n",
    "    markdown_content += \"## 简答题\\n\"\n",
    "    index = 1\n",
    "    all_jianda = all_question[3]\n",
    "    for jianda in all_jianda:\n",
    "        markdown_content += f\"#### {index}. \" + jianda.p.text+ \" \\n\"\n",
    "        index += 1\n",
    "        # 将内容写入Markdown文件\n",
    "    with open(f'Unit{unit}.md', 'w', encoding='utf-8') as f:\n",
    "        f.write(markdown_content)\n",
    "\n",
    "    print(\"Markdown file 'questions.md' created successfully.\")"
   ]
  }
 ],
 "metadata": {
  "kernelspec": {
   "display_name": "pytorch",
   "language": "python",
   "name": "python3"
  },
  "language_info": {
   "codemirror_mode": {
    "name": "ipython",
    "version": 3
   },
   "file_extension": ".py",
   "mimetype": "text/x-python",
   "name": "python",
   "nbconvert_exporter": "python",
   "pygments_lexer": "ipython3",
   "version": "3.11.8"
  }
 },
 "nbformat": 4,
 "nbformat_minor": 2
}
