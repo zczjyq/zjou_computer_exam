{
 "cells": [
  {
   "cell_type": "code",
   "execution_count": 3,
   "metadata": {},
   "outputs": [],
   "source": [
    "import cv2\n",
    "import numpy as np"
   ]
  },
  {
   "cell_type": "code",
   "execution_count": 13,
   "metadata": {},
   "outputs": [],
   "source": [
    "image = np.array([\n",
    "    [1, 1, 0, 0, 0, 0, 1, 0, 0],\n",
    "    [0, 0, 0, 0, 0, 1, 0, 0, 0],\n",
    "    [1, 0, 0, 0, 0, 1, 1, 1, 1],\n",
    "    [1, 0, 0, 0, 0, 0, 1, 1, 1],\n",
    "    [1, 1, 1, 1, 1, 0, 1, 1, 1],\n",
    "    [1, 1, 1, 0, 0, 0, 1, 1, 1],\n",
    "    [1, 1, 1, 0, 0, 0, 0, 1, 0],\n",
    "    [0, 1, 1, 0, 0, 0, 0, 1, 0],\n",
    "    [0, 1, 1, 0, 1, 1, 0, 0, 0]\n",
    "], dtype = np.float32)\n",
    "# 平滑操作\n",
    "kernel = np.ones((3,3), np.float32) / 9\n",
    "smoothed_image = cv2.filter2D(image, -1, kernel)"
   ]
  },
  {
   "cell_type": "code",
   "execution_count": 16,
   "metadata": {},
   "outputs": [
    {
     "data": {
      "text/plain": [
       "array([[0.33333334, 0.22222222, 0.11111111, 0.        , 0.22222222,\n",
       "        0.33333334, 0.33333334, 0.11111111, 0.        ],\n",
       "       [0.44444445, 0.33333334, 0.11111111, 0.        , 0.22222222,\n",
       "        0.44444445, 0.5555556 , 0.44444445, 0.33333334],\n",
       "       [0.22222222, 0.22222222, 0.        , 0.        , 0.22222222,\n",
       "        0.44444445, 0.6666667 , 0.6666667 , 0.6666667 ],\n",
       "       [0.5555556 , 0.5555556 , 0.33333334, 0.33333334, 0.33333334,\n",
       "        0.5555556 , 0.7777778 , 1.        , 1.        ],\n",
       "       [0.7777778 , 0.7777778 , 0.5555556 , 0.44444445, 0.22222222,\n",
       "        0.44444445, 0.6666667 , 1.        , 1.        ],\n",
       "       [1.        , 1.        , 0.7777778 , 0.5555556 , 0.22222222,\n",
       "        0.33333334, 0.5555556 , 0.7777778 , 0.8888889 ],\n",
       "       [0.8888889 , 0.8888889 , 0.6666667 , 0.33333334, 0.        ,\n",
       "        0.11111111, 0.44444445, 0.5555556 , 0.7777778 ],\n",
       "       [0.7777778 , 0.7777778 , 0.6666667 , 0.44444445, 0.22222222,\n",
       "        0.22222222, 0.33333334, 0.22222222, 0.44444445],\n",
       "       [0.6666667 , 0.6666667 , 0.6666667 , 0.44444445, 0.22222222,\n",
       "        0.22222222, 0.33333334, 0.22222222, 0.44444445]], dtype=float32)"
      ]
     },
     "execution_count": 16,
     "metadata": {},
     "output_type": "execute_result"
    }
   ],
   "source": [
    "smoothed_image"
   ]
  },
  {
   "cell_type": "code",
   "execution_count": 23,
   "metadata": {},
   "outputs": [],
   "source": [
    "kernel = np.array([[0, -1, 0],\n",
    "                   [-1, 5, -1],\n",
    "                   [0, -1, 0]], dtype=np.float32)\n",
    "# 进行卷积操作，不使用扩充边缘\n",
    "filtered_image = cv2.filter2D(image, -1, kernel, borderType=cv2.BORDER_CONSTANT)\n"
   ]
  },
  {
   "cell_type": "code",
   "execution_count": 24,
   "metadata": {},
   "outputs": [
    {
     "data": {
      "text/plain": [
       "array([[ 4.,  4., -1.,  0.,  0., -2.,  5., -1.,  0.],\n",
       "       [-2., -1.,  0.,  0., -1.,  4., -3., -1., -1.],\n",
       "       [ 4., -1.,  0.,  0., -1.,  3.,  2.,  2.,  3.],\n",
       "       [ 3., -2., -1., -1., -1., -2.,  2.,  1.,  2.],\n",
       "       [ 2.,  2.,  2.,  3.,  4., -2.,  2.,  1.,  2.],\n",
       "       [ 2.,  1.,  2., -2., -1., -1.,  3.,  1.,  3.],\n",
       "       [ 3.,  1.,  2., -1.,  0.,  0., -2.,  3., -2.],\n",
       "       [-2.,  2.,  2., -1., -1., -1., -1.,  4., -1.],\n",
       "       [-1.,  3.,  3., -2.,  4.,  4., -1., -1.,  0.]], dtype=float32)"
      ]
     },
     "execution_count": 24,
     "metadata": {},
     "output_type": "execute_result"
    }
   ],
   "source": [
    "filtered_image"
   ]
  }
 ],
 "metadata": {
  "kernelspec": {
   "display_name": "pytorch",
   "language": "python",
   "name": "python3"
  },
  "language_info": {
   "codemirror_mode": {
    "name": "ipython",
    "version": 3
   },
   "file_extension": ".py",
   "mimetype": "text/x-python",
   "name": "python",
   "nbconvert_exporter": "python",
   "pygments_lexer": "ipython3",
   "version": "3.11.8"
  }
 },
 "nbformat": 4,
 "nbformat_minor": 2
}
