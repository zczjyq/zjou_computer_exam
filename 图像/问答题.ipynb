{
 "cells": [
  {
   "cell_type": "code",
   "execution_count": 2,
   "metadata": {},
   "outputs": [
    {
     "name": "stdout",
     "output_type": "stream",
     "text": [
      "Histogram:\n"
     ]
    },
    {
     "data": {
      "image/png": "[encoded data removed]",
      "text/plain": [
       "<Figure size 640x480 with 1 Axes>"
      ]
     },
     "metadata": {},
     "output_type": "display_data"
    },
    {
     "name": "stdout",
     "output_type": "stream",
     "text": [
      "Smoothed Image:\n",
      "[[113 113 170 113 113 113 170 113 113]\n",
      " [113  85 113  57  57  57 113  85 113]\n",
      " [170 113 142  57  57  57 142 113 170]\n",
      " [170  85  85   0   0   0  85  85 170]\n",
      " [170  85  85   0   0   0  85  85 170]\n",
      " [170 113 142  57  57  57 142 113 170]\n",
      " [113  85 113  57  57  57 113  85 113]\n",
      " [ 57  57  85  57  57  57  85  57  57]\n",
      " [  0   0   0   0   0   0   0   0   0]]\n",
      "Sharpened Image:\n",
      "[[  0   0   0   0   0   0   0   0   0]\n",
      " [  0 255 255 255   0 255 255 255   0]\n",
      " [  0 255   0   0   0   0   0 255   0]\n",
      " [  0 255   0   0   0   0   0 255   0]\n",
      " [  0 255   0   0   0   0   0 255   0]\n",
      " [  0 255   0   0   0   0   0 255   0]\n",
      " [  0 255 255 255   0 255 255 255   0]\n",
      " [  0   0   0   0   0   0   0   0   0]\n",
      " [  0   0   0   0   0   0   0   0   0]]\n",
      "Dilated Image:\n",
      "[[255 255 255 255 255 255 255 255 255]\n",
      " [255 255 255 255 255 255 255 255 255]\n",
      " [255 255 255 255 255 255 255 255 255]\n",
      " [255 255 255   0   0   0 255 255 255]\n",
      " [255 255 255   0   0   0 255 255 255]\n",
      " [255 255 255 255 255 255 255 255 255]\n",
      " [255 255 255 255 255 255 255 255 255]\n",
      " [255 255 255 255 255 255 255 255 255]\n",
      " [  0   0   0   0   0   0   0   0   0]]\n",
      "Eroded Image:\n",
      "[[0 0 0 0 0 0 0 0 0]\n",
      " [0 0 0 0 0 0 0 0 0]\n",
      " [0 0 0 0 0 0 0 0 0]\n",
      " [0 0 0 0 0 0 0 0 0]\n",
      " [0 0 0 0 0 0 0 0 0]\n",
      " [0 0 0 0 0 0 0 0 0]\n",
      " [0 0 0 0 0 0 0 0 0]\n",
      " [0 0 0 0 0 0 0 0 0]\n",
      " [0 0 0 0 0 0 0 0 0]]\n"
     ]
    }
   ],
   "source": [
    "import numpy as np\n",
    "import cv2\n",
    "from matplotlib import pyplot as plt\n",
    "\n",
    "# 创建一个9x9的二值图像矩阵\n",
    "image = np.array([\n",
    "    [0, 0, 0, 0, 0, 0, 0, 0, 0],\n",
    "    [0, 255, 255, 255, 0, 255, 255, 255, 0],\n",
    "    [0, 255, 0, 0, 0, 0, 0, 255, 0],\n",
    "    [0, 255, 0, 0, 0, 0, 0, 255, 0],\n",
    "    [0, 255, 0, 0, 0, 0, 0, 255, 0],\n",
    "    [0, 255, 0, 0, 0, 0, 0, 255, 0],\n",
    "    [0, 255, 255, 255, 0, 255, 255, 255, 0],\n",
    "    [0, 0, 0, 0, 0, 0, 0, 0, 0],\n",
    "    [0, 0, 0, 0, 0, 0, 0, 0, 0]\n",
    "], dtype=np.uint8)\n",
    "\n",
    "# 计算直方图\n",
    "histogram = cv2.calcHist([image], [0], None, [256], [0,256])\n",
    "\n",
    "# 平滑操作\n",
    "kernel = np.ones((3,3), np.float32) / 9\n",
    "smoothed_image = cv2.filter2D(image, -1, kernel)\n",
    "\n",
    "# 锐化操作\n",
    "laplacian_kernel = np.array([\n",
    "    [0, -1, 0],\n",
    "    [-1, 5, -1],\n",
    "    [0, -1, 0]\n",
    "], dtype=np.float32)\n",
    "sharpened_image = cv2.filter2D(image, -1, laplacian_kernel)\n",
    "\n",
    "# 形态学操作：膨胀和腐蚀\n",
    "kernel = np.ones((3,3), np.uint8)\n",
    "dilated_image = cv2.dilate(image, kernel, iterations=1)\n",
    "eroded_image = cv2.erode(image, kernel, iterations=1)\n",
    "\n",
    "# 打印输出结果\n",
    "print(\"Histogram:\")\n",
    "plt.hist(image.ravel(), 256, [0, 256])\n",
    "plt.show()\n",
    "\n",
    "print(\"Smoothed Image:\")\n",
    "print(smoothed_image)\n",
    "\n",
    "print(\"Sharpened Image:\")\n",
    "print(sharpened_image)\n",
    "\n",
    "print(\"Dilated Image:\")\n",
    "print(dilated_image)\n",
    "\n",
    "print(\"Eroded Image:\")\n",
    "print(eroded_image)\n"
   ]
  },
  {
   "cell_type": "markdown",
   "metadata": {},
   "source": []
  }
 ],
 "metadata": {
  "kernelspec": {
   "display_name": "pytorch",
   "language": "python",
   "name": "python3"
  },
  "language_info": {
   "codemirror_mode": {
    "name": "ipython",
    "version": 3
   },
   "file_extension": ".py",
   "mimetype": "text/x-python",
   "name": "python",
   "nbconvert_exporter": "python",
   "pygments_lexer": "ipython3",
   "version": "3.11.8"
  }
 },
 "nbformat": 4,
 "nbformat_minor": 2
}
