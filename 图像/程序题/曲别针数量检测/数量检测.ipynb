{
 "cells": [
  {
   "cell_type": "markdown",
   "metadata": {},
   "source": [
    "1. 加载图像\n",
    "   - 从指定路径读取图像文件\n",
    "2. 转换图像为灰度\n",
    "   - 使用cv2.cvtColor将图像从BGR色彩空间转换为灰度色彩空间\n",
    "3. 应用二值化阈值处理\n",
    "   - 使用cv2.threshold将灰度图像转换为二值图像，设定阈值为127，最大值为255\n",
    "4. 显示二值化图像\n",
    "   - 使用cv2.imshow展示二值化处理后的图像\n",
    "5. 查找轮廓\n",
    "   - 使用cv2.findContours在二值图像中查找轮廓，只检索外部轮廓，使用简单的轮廓近似方法\n",
    "6.  遍历检测到的所有轮廓\n",
    "    - 对于每个轮廓：\n",
    "      a. 计算该轮廓的面积\n",
    "      b. 如果面积大于min_area：\n",
    "         i. 计数器加一\n",
    "         ii. 在原始图像上用绿色线条绘制该轮廓"
   ]
  },
  {
   "cell_type": "code",
   "execution_count": 1,
   "metadata": {},
   "outputs": [
    {
     "name": "stdout",
     "output_type": "stream",
     "text": [
      "曲别针数量为: 13\n"
     ]
    }
   ],
   "source": [
    "import cv2\n",
    "\n",
    "# 加载图像\n",
    "image = cv2.imread('./images/nums.jpg')\n",
    "cv2.imshow(\"Original\", image)\n",
    "\n",
    "# 转换为灰度图\n",
    "gray = cv2.cvtColor(image, cv2.COLOR_BGR2GRAY)\n",
    "\n",
    "# 应用二值化阈值\n",
    "_, binary = cv2.threshold(gray, 127, 255, cv2.THRESH_BINARY_INV)\n",
    "\n",
    "# 查找轮廓\n",
    "contours, _ = cv2.findContours(binary, cv2.RETR_EXTERNAL, cv2.CHAIN_APPROX_SIMPLE)\n",
    "cv2.imshow(\"Binary\", binary)\n",
    "\n",
    "# 初始化计数器\n",
    "large_contour_count = 0\n",
    "min_area = 10000  # 设置面积阈值，根据实际情况调整\n",
    "\n",
    "# 遍历轮廓并计算面积\n",
    "for contour in contours:\n",
    "    area = cv2.contourArea(contour)\n",
    "    if area > min_area:\n",
    "        large_contour_count += 1\n",
    "        cv2.drawContours(image, [contour], -1, (0, 255, 0), 2)  # 绘制满足条件的轮廓\n",
    "\n",
    "# 显示图像\n",
    "cv2.imshow('Contoured Image', image)\n",
    "cv2.waitKey(0)\n",
    "cv2.destroyAllWindows()\n",
    "# 输出符合条件的曲别针数量\n",
    "print(f\"曲别针数量为: {large_contour_count}\")"
   ]
  }
 ],
 "metadata": {
  "kernelspec": {
   "display_name": "pytorch",
   "language": "python",
   "name": "python3"
  },
  "language_info": {
   "codemirror_mode": {
    "name": "ipython",
    "version": 3
   },
   "file_extension": ".py",
   "mimetype": "text/x-python",
   "name": "python",
   "nbconvert_exporter": "python",
   "pygments_lexer": "ipython3",
   "version": "3.11.8"
  }
 },
 "nbformat": 4,
 "nbformat_minor": 2
}
