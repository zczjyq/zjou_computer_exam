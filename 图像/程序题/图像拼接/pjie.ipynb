{
 "cells": [
  {
   "cell_type": "code",
   "execution_count": 2,
   "metadata": {},
   "outputs": [],
   "source": [
    "import cv2\n",
    "import numpy as np\n",
    "\n",
    "# 加载图像\n",
    "image1 = cv2.imread('./images/1.jpg')\n",
    "image2 = cv2.imread('./images/2.jpg')\n",
    "image3 = cv2.imread('./images/3.jpg')\n",
    "\n",
    "# 检查所有图像的尺寸是否相同\n",
    "height1, width1 = image1.shape[:2]\n",
    "height2, width2 = image2.shape[:2]\n",
    "height3, width3 = image3.shape[:2]\n",
    "\n",
    "# 假设所有图像的高度和宽度相同，简化拼接过程\n",
    "if height1 == height2 == height3 and width1 == width2 == width3:\n",
    "    # 水平方向上拼接图像\n",
    "    concatenated_image = np.concatenate((image1, image2, image3), axis=1)\n",
    "    # 保存拼接后的图像\n",
    "    cv2.imwrite('concatenated_image.jpg', concatenated_image)\n",
    "    cv2.imshow('Concatenated Image', concatenated_image)\n",
    "    cv2.waitKey(0)\n",
    "    cv2.destroyAllWindows()\n",
    "else:\n",
    "    print(\"Images have different dimensions and cannot be concatenated directly.\")\n"
   ]
  },
  {
   "cell_type": "code",
   "execution_count": 4,
   "metadata": {},
   "outputs": [
    {
     "data": {
      "text/plain": [
       "True"
      ]
     },
     "execution_count": 4,
     "metadata": {},
     "output_type": "execute_result"
    }
   ],
   "source": [
    "import cv2\n",
    "import numpy as np\n",
    "\n",
    "def stitch_images(img1, img2):\n",
    "    # 初始化ORB检测器\n",
    "    orb = cv2.ORB_create(5000)\n",
    "\n",
    "    # 寻找关键点和描述符\n",
    "    kp1, des1 = orb.detectAndCompute(img1, None)\n",
    "    kp2, des2 = orb.detectAndCompute(img2, None)\n",
    "\n",
    "    # 创建匹配器\n",
    "    matcher = cv2.BFMatcher(cv2.NORM_HAMMING, crossCheck=True)\n",
    "\n",
    "    # 匹配描述符\n",
    "    matches = matcher.match(des1, des2)\n",
    "\n",
    "    # 根据距离排序\n",
    "    matches = sorted(matches, key=lambda x: x.distance)\n",
    "\n",
    "    # 只取最好的一些匹配点\n",
    "    good_matches = matches[:int(len(matches) * 0.15)]\n",
    "\n",
    "    # 从好的匹配中提取位置\n",
    "    src_pts = np.float32([kp1[m.queryIdx].pt for m in good_matches]).reshape(-1,1,2)\n",
    "    dst_pts = np.float32([kp2[m.trainIdx].pt for m in good_matches]).reshape(-1,1,2)\n",
    "\n",
    "    # 用RANSAC算法计算仿射变换\n",
    "    M, mask = cv2.findHomography(src_pts, dst_pts, cv2.RANSAC, 5.0)\n",
    "\n",
    "    # 使用变换矩阵将图像img1变换到img2的坐标系\n",
    "    h, w = img2.shape[:2]\n",
    "    result = cv2.warpPerspective(img1, M, (w, h))\n",
    "\n",
    "    # 把img2加到变换后的img1上\n",
    "    result[0:h, 0:w] = img2\n",
    "\n",
    "    return result\n",
    "\n",
    "# 加载图像\n",
    "image1 = cv2.imread('./images/1.jpg')\n",
    "image2 = cv2.imread('./images/2.jpg')\n",
    "image3 = cv2.imread('./images/3.jpg')\n",
    "\n",
    "# 首先拼接图像1和图像2\n",
    "result12 = stitch_images(image1, image2)\n",
    "\n",
    "# 然后拼接结果和图像3\n",
    "final_result = stitch_images(result12, image3)\n",
    "\n",
    "# 显示和保存最终结果\n",
    "cv2.imshow('Final Stitched Image', final_result)\n",
    "cv2.waitKey(0)\n",
    "cv2.destroyAllWindows()\n",
    "cv2.imwrite('final_stitched_result.jpg', final_result)\n"
   ]
  }
 ],
 "metadata": {
  "kernelspec": {
   "display_name": "pytorch",
   "language": "python",
   "name": "python3"
  },
  "language_info": {
   "codemirror_mode": {
    "name": "ipython",
    "version": 3
   },
   "file_extension": ".py",
   "mimetype": "text/x-python",
   "name": "python",
   "nbconvert_exporter": "python",
   "pygments_lexer": "ipython3",
   "version": "3.11.8"
  }
 },
 "nbformat": 4,
 "nbformat_minor": 2
}
