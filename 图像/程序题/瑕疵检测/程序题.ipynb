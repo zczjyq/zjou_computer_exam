{
 "cells": [
  {
   "cell_type": "markdown",
   "metadata": {},
   "source": [
    "# 代码流程\n",
    "1. 从指定的文件路径加载图像。\n",
    "2. 将加载的图像转换为灰度图，简化处理。\n",
    "3. 应用高斯模糊，平滑图像，减少噪点和细节。\n",
    "4. 应用二值化反转阈值处理，以突出背景中的潜在瑕疵。\n",
    "5. 检测阈值图像中的所有轮廓。\n",
    "6. 使用绿色线条在原始图像上绘制检测到的轮廓，标记瑕疵。"
   ]
  },
  {
   "cell_type": "markdown",
   "metadata": {},
   "source": [
    "## 需要opencv numpy 以及 matplotlib库\n",
    "\n",
    "pip 安装库命令\n",
    "``` python\n",
    "pip install opencv-python\n",
    "pip install numpy\n",
    "pip install matplotlib\n",
    "```"
   ]
  },
  {
   "cell_type": "code",
   "execution_count": 3,
   "metadata": {},
   "outputs": [],
   "source": [
    "import cv2\n",
    "import numpy as np\n",
    "import matplotlib.pyplot as plt"
   ]
  },
  {
   "cell_type": "code",
   "execution_count": 30,
   "metadata": {},
   "outputs": [],
   "source": [
    "# 加载图像\n",
    "image_path = './瑕疵检测.jpg'\n",
    "image = cv2.imread('./images/xiacitest.jpg')\n",
    "cv2.imshow(\"image\", image)\n",
    "\n",
    "\n",
    "# 转换为灰度图\n",
    "gray = cv2.cvtColor(image, cv2.COLOR_BGR2GRAY)\n",
    "cv2.imshow(\"gray\", gray)\n",
    "\n",
    "\n",
    "# 可选：应用高斯模糊\n",
    "gray = cv2.medianBlur(gray, 3)\n",
    "cv2.imshow(\"blurred\", gray)\n",
    "\n",
    "# 应用拉普拉斯算子，使用更大的核\n",
    "laplacian = cv2.Laplacian(gray, cv2.CV_64F, ksize=3)\n",
    "\n",
    "# 转换数据范围，使其适合显示\n",
    "laplacian = np.uint8(np.absolute(laplacian))\n",
    "cv2.imshow(\"laplacian\", laplacian)\n",
    "\n",
    "# 可选：应用高斯模糊\n",
    "gusi = cv2.GaussianBlur(laplacian, (5, 5), 0)\n",
    "cv2.imshow(\"gusi\", gusi)\n",
    "\n",
    "# 定义锐化核\n",
    "sharpen_kernel = np.array([[-1, -1, -1],\n",
    "                           [-1,  9, -1],\n",
    "                           [-1, -1, -1]])\n",
    "\n",
    "# 使用锐化核应用卷积\n",
    "sharpened_image = cv2.filter2D(gusi, -1, sharpen_kernel)\n",
    "\n",
    "cv2.imshow(\"sharpened\", sharpened_image)\n",
    "\n",
    "# 创建一个3x3的矩形结构元素\n",
    "kernel = np.ones((3,3), np.uint8)\n",
    "\n",
    "# 应用膨胀操作\n",
    "dilated_image = cv2.dilate(gusi, kernel, iterations=1)\n",
    "cv2.imshow(\"dilated\", dilated_image)\n",
    "\n",
    "edges = cv2.Canny(dilated_image, 50, 150)\n",
    "cv2.imshow(\"edges\", edges)\n",
    "\n",
    "cv2.waitKey(0)  # 等待用户按键，然后关闭窗口\n",
    "cv2.destroyAllWindows()  # 关闭所有OpenCV窗口\n",
    "\n",
    "# # 展示灰度图\n",
    "# plt.imshow(gray, cmap='gray')\n",
    "# print(image.shape)"
   ]
  },
  {
   "cell_type": "code",
   "execution_count": null,
   "metadata": {},
   "outputs": [],
   "source": [
    "\n",
    "# 寻找轮廓\n",
    "contours, _ = cv2.findContours(thresholded, cv2.RETR_EXTERNAL, cv2.CHAIN_APPROX_SIMPLE)\n",
    "\n",
    "# 在原始图像上绘制轮廓\n",
    "for contour in contours:\n",
    "    cv2.drawContours(image, [contour], -1, (0, 255, 0), 2)\n"
   ]
  }
 ],
 "metadata": {
  "kernelspec": {
   "display_name": "pytorch",
   "language": "python",
   "name": "python3"
  },
  "language_info": {
   "codemirror_mode": {
    "name": "ipython",
    "version": 3
   },
   "file_extension": ".py",
   "mimetype": "text/x-python",
   "name": "python",
   "nbconvert_exporter": "python",
   "pygments_lexer": "ipython3",
   "version": "3.11.8"
  }
 },
 "nbformat": 4,
 "nbformat_minor": 2
}
