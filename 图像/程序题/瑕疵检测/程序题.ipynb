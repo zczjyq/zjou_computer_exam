{
 "cells": [
  {
   "cell_type": "markdown",
   "metadata": {},
   "source": [
    "1. **加载图像**：从指定路径加载一张图片。\n",
    "2. **转换为灰度图**：将彩色图像转换成灰度图。\n",
    "3. **应用高斯模糊**：对灰度图像进行高斯模糊，以减少噪声，便于更准确地检测边缘。\n",
    "4. **边缘检测**：使用Canny算法对模糊后的图像进行边缘检测，生成包含边缘的二值图像。\n",
    "5. **边缘彩色化**：将二值边缘图像转换成彩色格式，使得可以在彩色图像中显示。\n",
    "6. **边缘叠加**：将彩色边缘图像叠加到原始图像上，以突出显示边缘。\n",
    "7. **显示结果**：展示原始图像和叠加边缘的图像。\n",
    "8. **等待关闭**：等待用户按键后关闭所有窗口。"
   ]
  },
  {
   "cell_type": "markdown",
   "metadata": {},
   "source": [
    "## 需要opencv numpy\n",
    "\n",
    "pip 安装库命令\n",
    "``` python\n",
    "pip install opencv-python\n",
    "pip install numpy\n",
    "```"
   ]
  },
  {
   "cell_type": "code",
   "execution_count": 70,
   "metadata": {},
   "outputs": [],
   "source": [
    "import cv2\n",
    "import numpy as np\n",
    "\n",
    "# 加载图像\n",
    "image = cv2.imread('./images/xiacitest.jpg')\n",
    "\n",
    "# 转换为灰度图\n",
    "gray = cv2.cvtColor(image, cv2.COLOR_BGR2GRAY)\n",
    "\n",
    "# 应用高斯模糊\n",
    "blur = cv2.GaussianBlur(gray, (7,7), 0)\n",
    "\n",
    "# 应用Canny边缘检测\n",
    "edged = cv2.Canny(blur, 10, 29)\n",
    "# 将边缘图像转换为彩色\n",
    "edged_colored = cv2.cvtColor(edged, cv2.COLOR_GRAY2BGR)\n",
    "# 在原始图像上叠加边缘，边缘以白色显示\n",
    "overlay = cv2.bitwise_or(image, edged_colored)\n",
    "\n",
    "cv2.imshow(\"Original\", image)\n",
    "cv2.imshow(\"Red Edge Overlay\", overlay)\n",
    "cv2.waitKey(0)\n",
    "cv2.destroyAllWindows()"
   ]
  }
 ],
 "metadata": {
  "kernelspec": {
   "display_name": "pytorch",
   "language": "python",
   "name": "python3"
  },
  "language_info": {
   "codemirror_mode": {
    "name": "ipython",
    "version": 3
   },
   "file_extension": ".py",
   "mimetype": "text/x-python",
   "name": "python",
   "nbconvert_exporter": "python",
   "pygments_lexer": "ipython3",
   "version": "3.11.8"
  }
 },
 "nbformat": 4,
 "nbformat_minor": 2
}
