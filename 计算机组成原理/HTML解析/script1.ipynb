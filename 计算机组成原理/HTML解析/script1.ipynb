{
 "cells": [
  {
   "cell_type": "code",
   "execution_count": 1,
   "metadata": {},
   "outputs": [],
   "source": [
    "from bs4 import BeautifulSoup\n",
    "import requests"
   ]
  },
  {
   "cell_type": "code",
   "execution_count": 2,
   "metadata": {},
   "outputs": [
    {
     "name": "stdout",
     "output_type": "stream",
     "text": [
      "测验题1\n",
      "ABADC CBBAB\n",
      "CACDD BDD\n",
      "测验题3\n",
      "DDAAC CCCAD\n",
      "BCADB CACAD\n",
      "ACDBB BCAB\n",
      "测验题4\n",
      "DDBBD AADDA\n",
      "ACAAD DCCAC\n",
      "CBADC DACAA\n",
      "BAD\n",
      "测验题5\n",
      "CACBB DAADC\n",
      "ADACC CBCBB\n",
      "ACACC ABBDD\n",
      "BBBDA DBC\n",
      "测验题6\n",
      "CBCAB BBDAD\n",
      "BDCBD DABBA\n",
      "DDBCB DBDDB\n",
      "BBADB DCDBA\n",
      "DDBDD CCAAC\n",
      "A\n",
      "测验题7\n",
      "CDCCD ADACB\n",
      "ABBAC ACCCD\n",
      "ADBCB BCBDC\n",
      "\n",
      "测验题8\n",
      "DAACD BCBDD\n",
      "CCBBC CDBDD\n",
      "DDBDB DDCBA\n",
      "CBACB AC\n"
     ]
    }
   ],
   "source": [
    "indexs = [1, 3, 4, 5, 6, 7, 8]\n",
    "for index in indexs:\n",
    "    soup = BeautifulSoup(open(f'./recourse/computer{index}.html')) \n",
    "    print(soup.select('h2.mark_title')[0].text)\n",
    "    all_spans = []\n",
    "    for item in soup.body.select('div.mark_key.clearfix'):\n",
    "        spans = item.select('span.colorGreen.marginRight40.fl')\n",
    "        all_spans.extend(spans)\n",
    "    flag = True\n",
    "    i = 1\n",
    "    for span in all_spans:\n",
    "        if flag:\n",
    "            if i % 10 == 0:print(span.text[-1])\n",
    "            elif i % 5 == 0:print(span.text[-1], end=' ')\n",
    "            else:print(span.text[-1], end='')\n",
    "            i += 1\n",
    "        flag = not flag\n",
    "    print(\"\")\n",
    "    "
   ]
  }
 ],
 "metadata": {
  "kernelspec": {
   "display_name": "pytorch",
   "language": "python",
   "name": "python3"
  },
  "language_info": {
   "codemirror_mode": {
    "name": "ipython",
    "version": 3
   },
   "file_extension": ".py",
   "mimetype": "text/x-python",
   "name": "python",
   "nbconvert_exporter": "python",
   "pygments_lexer": "ipython3",
   "version": "3.11.8"
  }
 },
 "nbformat": 4,
 "nbformat_minor": 2
}
